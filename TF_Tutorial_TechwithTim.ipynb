{
  "nbformat": 4,
  "nbformat_minor": 0,
  "metadata": {
    "colab": {
      "provenance": [],
      "authorship_tag": "ABX9TyNwaFn9y07NeQhsRDcBR/tN",
      "include_colab_link": true
    },
    "kernelspec": {
      "name": "python3",
      "display_name": "Python 3"
    },
    "language_info": {
      "name": "python"
    }
  },
  "cells": [
    {
      "cell_type": "markdown",
      "metadata": {
        "id": "view-in-github",
        "colab_type": "text"
      },
      "source": [
        "<a href=\"https://colab.research.google.com/github/agarh16/TF_T/blob/main/TF_Tutorial_TechwithTim.ipynb\" target=\"_parent\"><img src=\"https://colab.research.google.com/assets/colab-badge.svg\" alt=\"Open In Colab\"/></a>"
      ]
    },
    {
      "cell_type": "code",
      "source": [
        "%tensorflow_version 2.x\n",
        "import tensorflow as tf\n",
        "print(tf.version)"
      ],
      "metadata": {
        "colab": {
          "base_uri": "https://localhost:8080/"
        },
        "id": "4wnU4ylQFrIO",
        "outputId": "1685ce32-61e1-4be1-f5ca-6feb3404eaf2"
      },
      "execution_count": null,
      "outputs": [
        {
          "output_type": "stream",
          "name": "stdout",
          "text": [
            "Colab only includes TensorFlow 2.x; %tensorflow_version has no effect.\n",
            "<module 'tensorflow._api.v2.version' from '/usr/local/lib/python3.10/dist-packages/tensorflow/_api/v2/version/__init__.py'>\n"
          ]
        }
      ]
    },
    {
      "cell_type": "markdown",
      "source": [
        "How to create some tensors."
      ],
      "metadata": {
        "id": "y9uMnz3SLZiN"
      }
    },
    {
      "cell_type": "code",
      "source": [
        "string = tf.Variable(\"Hello World\", tf.string)\n",
        "number = tf.Variable(123, tf.int16)\n",
        "floating = tf.Variable(3.1416, tf.float64)"
      ],
      "metadata": {
        "id": "pEWcUFCxJdl_"
      },
      "execution_count": null,
      "outputs": []
    },
    {
      "cell_type": "markdown",
      "source": [
        "# Rank/Degree of Tensors.\n",
        "\n",
        "The Rank or Degree refers to the number of dimensions involved in the tensor. Tensors of Rank 0 are called a *scalar*."
      ],
      "metadata": {
        "id": "BOyvCXtKLnLp"
      }
    },
    {
      "cell_type": "code",
      "source": [
        "rank1_tensor = tf.Variable([\"Hello\", \"Ok\", \"Andrea\"], tf.string)\n",
        "rank2_tensor = tf.Variable([[\"Hallo\", \"Okay\",\"hi\"], [\"test\", \"yes\", \"ok\"]], tf.string)"
      ],
      "metadata": {
        "id": "RFIFHPYQF7TG"
      },
      "execution_count": null,
      "outputs": []
    },
    {
      "cell_type": "markdown",
      "source": [
        "To determine the rank of a tensor we can call the following method."
      ],
      "metadata": {
        "id": "tCcls66uMbgD"
      }
    },
    {
      "cell_type": "code",
      "source": [
        "tf.rank(rank2_tensor)"
      ],
      "metadata": {
        "colab": {
          "base_uri": "https://localhost:8080/"
        },
        "id": "t3m4nLdfJPRT",
        "outputId": "13ed192f-3d7b-4f3c-c5c0-8b9c7c86677c"
      },
      "execution_count": null,
      "outputs": [
        {
          "output_type": "execute_result",
          "data": {
            "text/plain": [
              "<tf.Tensor: shape=(), dtype=int32, numpy=2>"
            ]
          },
          "metadata": {},
          "execution_count": 19
        }
      ]
    },
    {
      "cell_type": "markdown",
      "source": [
        "#Shape of a Tensor\n",
        "The shape of a tensor is the amount of elements that exist in each dimension. TensorFlow will try to determine the shape of a tensor but it is sometimes unknown.\n",
        "\n",
        "TensorFlow can't convert non-square to tensor."
      ],
      "metadata": {
        "id": "loEDB36gMhiO"
      }
    },
    {
      "cell_type": "code",
      "source": [
        "rank2_tensor.shape"
      ],
      "metadata": {
        "colab": {
          "base_uri": "https://localhost:8080/"
        },
        "id": "1NBEfKugKRB3",
        "outputId": "daad5e60-8d2c-449a-870b-d1736b0ad902"
      },
      "execution_count": null,
      "outputs": [
        {
          "output_type": "execute_result",
          "data": {
            "text/plain": [
              "TensorShape([2, 3])"
            ]
          },
          "metadata": {},
          "execution_count": 22
        }
      ]
    },
    {
      "cell_type": "markdown",
      "source": [
        "#Changing Shape of a Tensor\n",
        "The number of elements of a tensor is the product of the sizes of all its shapes. There are often many shapes that have the same number of elements, making it convenient to be able to change the shape of a tensor.\n",
        "\n",
        "The example below shows how to change the shape of a tensor."
      ],
      "metadata": {
        "id": "VvoHtbXNNUik"
      }
    },
    {
      "cell_type": "code",
      "source": [
        "tensor_one = tf.ones([1,2,3]) #tensorflow creates a shape of [1,2,3] tensor full of ones\n",
        "tensor_two = tf.reshape(tensor_one, [2,3,1])\n",
        "tensor_three = tf.reshape(tensor_one, [3,-1]) #tells the tensor to calculate the size of the dimension in that place\n",
        "tensor_four = tf.ones([2,2,2,6])"
      ],
      "metadata": {
        "id": "48xVbVe_AvZQ"
      },
      "execution_count": null,
      "outputs": []
    },
    {
      "cell_type": "markdown",
      "source": [
        "Printing the tensors."
      ],
      "metadata": {
        "id": "TADqAc5_HDJd"
      }
    },
    {
      "cell_type": "code",
      "source": [
        "print(tensor_one)\n",
        "print(tensor_two)\n",
        "print(tensor_three)\n",
        "print(tensor_four)"
      ],
      "metadata": {
        "colab": {
          "base_uri": "https://localhost:8080/"
        },
        "id": "M5EyTYwpHGUU",
        "outputId": "f6fc0ad3-c33b-4164-d707-f26400bc2226"
      },
      "execution_count": null,
      "outputs": [
        {
          "output_type": "stream",
          "name": "stdout",
          "text": [
            "tf.Tensor(\n",
            "[[[1. 1. 1.]\n",
            "  [1. 1. 1.]]], shape=(1, 2, 3), dtype=float32)\n",
            "tf.Tensor(\n",
            "[[[1.]\n",
            "  [1.]\n",
            "  [1.]]\n",
            "\n",
            " [[1.]\n",
            "  [1.]\n",
            "  [1.]]], shape=(2, 3, 1), dtype=float32)\n",
            "tf.Tensor(\n",
            "[[1. 1.]\n",
            " [1. 1.]\n",
            " [1. 1.]], shape=(3, 2), dtype=float32)\n",
            "tf.Tensor(\n",
            "[[[[1. 1. 1. 1. 1. 1.]\n",
            "   [1. 1. 1. 1. 1. 1.]]\n",
            "\n",
            "  [[1. 1. 1. 1. 1. 1.]\n",
            "   [1. 1. 1. 1. 1. 1.]]]\n",
            "\n",
            "\n",
            " [[[1. 1. 1. 1. 1. 1.]\n",
            "   [1. 1. 1. 1. 1. 1.]]\n",
            "\n",
            "  [[1. 1. 1. 1. 1. 1.]\n",
            "   [1. 1. 1. 1. 1. 1.]]]], shape=(2, 2, 2, 6), dtype=float32)\n"
          ]
        }
      ]
    },
    {
      "cell_type": "markdown",
      "source": [
        "# Types of Tensors\n",
        "\n",
        "*   Variable\n",
        "*   Constant\n",
        "*   Placeholder\n",
        "*   SparseTensor\n",
        "\n",
        "All except variables may be immutable.\n",
        "\n"
      ],
      "metadata": {
        "id": "kflni_cmpMVu"
      }
    },
    {
      "cell_type": "markdown",
      "source": [
        "# Evaluating Tensors\n",
        "It might happen that you need to get a value of a tensor. Since tensors represent a partially complete computation we will sometimes need to run a *session* to evaluate it."
      ],
      "metadata": {
        "id": "jg5_MK_urCX0"
      }
    },
    {
      "cell_type": "code",
      "source": [
        "\"\"\"with tf.Session() as sess: #creates a session using the default graph\n",
        "tensor.eval()\"\"\""
      ],
      "metadata": {
        "colab": {
          "base_uri": "https://localhost:8080/",
          "height": 36
        },
        "id": "zRgKFPg3rGPZ",
        "outputId": "6e8adb5b-4ce2-4742-ca43-a1387b47369d"
      },
      "execution_count": null,
      "outputs": [
        {
          "output_type": "execute_result",
          "data": {
            "text/plain": [
              "'with tf.Session as sess: #creates a session using the default graph\\ntensor.eval()'"
            ],
            "application/vnd.google.colaboratory.intrinsic+json": {
              "type": "string"
            }
          },
          "metadata": {},
          "execution_count": 1
        }
      ]
    }
  ]
}